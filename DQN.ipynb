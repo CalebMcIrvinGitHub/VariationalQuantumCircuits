{
 "cells": [
  {
   "attachments": {},
   "cell_type": "markdown",
   "metadata": {},
   "source": [
    "Implementation of a VQC for reinforcement learning on OpenAI Gym's Frozen Lake environment\n",
    "\n",
    "Based off of https://github.com/ycchen1989/Var-QuantumCircuits-DeepRL/blob/master/Code/QML_DQN_FROZEN_LAKE.py\n",
    "\n",
    "Implemented using Qiskit and PyTorch"
   ]
  },
  {
   "cell_type": "code",
   "execution_count": 67,
   "metadata": {},
   "outputs": [],
   "source": [
    "import torch\n",
    "import random\n",
    "from qiskit import QuantumCircuit\n",
    "from qiskit.circuit import Parameter\n",
    "import gym\n",
    "import numpy as np"
   ]
  },
  {
   "cell_type": "code",
   "execution_count": 1,
   "metadata": {},
   "outputs": [],
   "source": [
    "class ReplayMemory():\n",
    "\n",
    "    # Initialize our replay memory\n",
    "    def __init__(self, capacity):\n",
    "        self.transitions = []\n",
    "        self.capacity = capacity\n",
    "\n",
    "    # Add a transition value to our memory\n",
    "    def store_transition(self, transition):\n",
    "        if len(self.transitions) < self.capacity:\n",
    "            self.transitions.append(transition)\n",
    "    \n",
    "    # Sample a random batch from our memory\n",
    "    def sample(self, batch_size):\n",
    "        return random.sample(self.transitions, batch_size)"
   ]
  },
  {
   "cell_type": "code",
   "execution_count": 92,
   "metadata": {},
   "outputs": [],
   "source": [
    "class Agent():\n",
    "    \n",
    "    def __init__(self, numQubits=4, depth=1):\n",
    "        # Number of qubits used (# of wires)\n",
    "        self.numQubits = numQubits\n",
    "\n",
    "        # Number of times to apply the CNOT / rotation module\n",
    "        self.depth = depth\n",
    "\n",
    "        # Action-value function approximator\n",
    "        self.qc = QuantumCircuit(numQubits)\n",
    "\n",
    "        # State encoding parameters\n",
    "        # thetas: parameters used to store angles to rotate in the x direction by\n",
    "        # phis: parameters used to store angles to rotate in the z direction by\n",
    "        self.thetas = [Parameter('theta_{}'.format(i)) for i in range(self.numQubits)]\n",
    "        self.phis = [Parameter('phi_{}'.format(i)) for i in range(self.numQubits)]\n",
    "\n",
    "        self.alpha_rotations = [Parameter('alpha_{}'.format(i)) for i in range(self.numQubits)]\n",
    "        self.beta_rotations = [Parameter('beta_{}'.format(i)) for i in range(self.numQubits)]\n",
    "        self.gamma_rotations = [Parameter('gamma_{}'.format(i)) for i in range(self.numQubits)]\n",
    "\n",
    "    # State is a decimal value from 0 to 16\n",
    "    # Converts this decimal value to a binary list\n",
    "    def get_binary_state_encoding(self, state):\n",
    "        return [int(i) for i in bin(state)[2:]]\n",
    "\n",
    "    # Creates a parameterized state encoding circuit\n",
    "    def state_preparation(self):\n",
    "        \n",
    "        # Initialize circuit with params\n",
    "        for wire in range(self.numQubits):\n",
    "            self.qc.rx(np.pi * self.thetas[wire], wire)\n",
    "        \n",
    "        for wire in range(self.numQubits):\n",
    "            self.qc.rz(np.pi * self.phis[wire], wire)\n",
    "    \n",
    "    # Binds theta values and phi values to the quantum circuit\n",
    "    # state: index of the state\n",
    "    def bind_state_preparation_parameters(self, state):\n",
    "        angles = self.get_binary_state_encoding(state)\n",
    "\n",
    "        # Make sure the number of theta values and phi values are equal to the number of qubits in the circuit\n",
    "        assert len(angles) == self.numQubits\n",
    "\n",
    "        self.qc = self.qc.bind_parameters(dict(zip(self.thetas, angles)))\n",
    "        self.qc = self.qc.bind_parameters(dict(zip(self.phis, angles)))\n",
    "    \n",
    "    # Creates a rotation layer\n",
    "    def init_layer(self):\n",
    "        # Create CNOT gates at each layer of the circuit\n",
    "        for wire in range(self.numQubits - 1):\n",
    "            self.qc.cx(wire, wire + 1)\n",
    "        \n",
    "        # Create rotations at each level of the circuit\n",
    "        for wire in range(self.numQubits):\n",
    "            self.qc.rx(self.alpha_rotations[wire], wire)\n",
    "            self.qc.ry(self.beta_rotations[wire], wire)\n",
    "            self.qc.rz(self.gamma_rotations[wire], wire)\n",
    "\n",
    "    # Binds one layer of our parameterized circuit to parameters\n",
    "    # alpha: array storing rotation values in x direction\n",
    "    # beta: array storing rotation values in y direction\n",
    "    # gamma: array storing rotation values in z direction\n",
    "    def bind_layer(self, alphas, betas, gammas):\n",
    "        # Length of alpha, beta, and gamma must be the same as the number of wires in the circuit\n",
    "        assert len(alphas) == self.numQubits                     \n",
    "        assert len(betas) == self.numQubits\n",
    "        assert len(gammas) == self.numQubits\n",
    "\n",
    "        self.qc = self.qc.bind_parameters(dict(zip(self.alpha_rotations, alphas)))\n",
    "        self.qc = self.qc.bind_parameters(dict(zip(self.beta_rotations, betas)))\n",
    "        self.qc = self.qc.bind_parameters(dict(zip(self.gamma_rotations, gammas)))\n",
    "    \n",
    "    # Outputs a score for each action\n",
    "    # Four actions\n",
    "    # If expectation value from qubit 0 is highest, then action selected is LEFT\n",
    "    # If expectation value from qubit 1 is highest, then action selected is DOWN\n",
    "    # If expectation value from qubit 2 is highest, then action selected is RIGHT\n",
    "    # If expectation value from qubit 3 is highest, then action selected is UP\n",
    "    # state: The state we're in\n",
    "    # num_iterations: The number of times to use to calculate our expectation values\n",
    "    def select_action(self, state, num_iterations=10):"
   ]
  },
  {
   "cell_type": "code",
   "execution_count": null,
   "metadata": {},
   "outputs": [],
   "source": [
    "class Runner():\n",
    "\n",
    "    def __init__(self, num_episodes, epsilon):\n"
   ]
  },
  {
   "cell_type": "code",
   "execution_count": 94,
   "metadata": {},
   "outputs": [
    {
     "data": {
      "image/png": "[encoded data removed]",
      "text/plain": [
       "<Figure size 568.197x264.88 with 1 Axes>"
      ]
     },
     "execution_count": 94,
     "metadata": {},
     "output_type": "execute_result"
    }
   ],
   "source": [
    "a = Agent()\n",
    "a.state_preparation()\n",
    "a.bind_state_preparation_parameters(12)\n",
    "a.init_layer()\n",
    "a.bind_layer([1, 2, 3, 4], [5, 6, 7, 8], [9, 10, 11, 12])\n",
    "a.qc.draw(output='mpl')"
   ]
  },
  {
   "cell_type": "code",
   "execution_count": 11,
   "metadata": {},
   "outputs": [],
   "source": [
    "env = gym.make('FrozenLake-v1', is_slippery=False)"
   ]
  },
  {
   "cell_type": "code",
   "execution_count": null,
   "metadata": {},
   "outputs": [],
   "source": []
  }
 ],
 "metadata": {
  "kernelspec": {
   "display_name": "Python 3",
   "language": "python",
   "name": "python3"
  },
  "language_info": {
   "codemirror_mode": {
    "name": "ipython",
    "version": 3
   },
   "file_extension": ".py",
   "mimetype": "text/x-python",
   "name": "python",
   "nbconvert_exporter": "python",
   "pygments_lexer": "ipython3",
   "version": "3.8.8"
  },
  "orig_nbformat": 4,
  "vscode": {
   "interpreter": {
    "hash": "b71e2ea7fd88c01752403482f8b390a2bb97379ffce9aede2d7f28ae0381b030"
   }
  }
 },
 "nbformat": 4,
 "nbformat_minor": 2
}
