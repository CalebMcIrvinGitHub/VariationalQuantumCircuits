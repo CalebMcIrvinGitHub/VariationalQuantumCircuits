{
  "cells": [
    {
      "cell_type": "markdown",
      "metadata": {
        "id": "cu2BNUyAsnl2"
      },
      "source": [
        "Implementation of a VQC for reinforcement learning on OpenAI Gym's Frozen Lake environment\n",
        "\n",
        "Inspired by https://github.com/ycchen1989/Var-QuantumCircuits-DeepRL/blob/master/Code/QML_DQN_FROZEN_LAKE.py\n",
        "\n",
        "Implemented using Qiskit and PyTorch"
      ]
    },
    {
      "cell_type": "code",
      "source": [
        "%pip install qiskit\n",
        "%pip install qiskit-aer-gpu"
      ],
      "metadata": {
        "colab": {
          "base_uri": "https://localhost:8080/"
        },
        "id": "GcnhsjLTwG4B",
        "outputId": "a403d95d-35e5-43c7-8af3-af3aba07f74a"
      },
      "execution_count": null,
      "outputs": [
        {
          "output_type": "stream",
          "name": "stdout",
          "text": [
            "Looking in indexes: https://pypi.org/simple, https://us-python.pkg.dev/colab-wheels/public/simple/\n",
            "Collecting qiskit\n",
            "  Downloading qiskit-0.42.1.tar.gz (14 kB)\n",
            "  Preparing metadata (setup.py) ... \u001b[?25l\u001b[?25hdone\n",
            "Collecting qiskit-terra==0.23.3\n",
            "  Downloading qiskit_terra-0.23.3-cp39-cp39-manylinux_2_17_x86_64.manylinux2014_x86_64.whl (5.1 MB)\n",
            "\u001b[2K     \u001b[90m━━━━━━━━━━━━━━━━━━━━━━━━━━━━━━━━━━━━━━━━\u001b[0m \u001b[32m5.1/5.1 MB\u001b[0m \u001b[31m54.8 MB/s\u001b[0m eta \u001b[36m0:00:00\u001b[0m\n",
            "\u001b[?25hCollecting qiskit-aer==0.12.0\n",
            "  Downloading qiskit_aer-0.12.0-cp39-cp39-manylinux_2_17_x86_64.manylinux2014_x86_64.whl (12.8 MB)\n",
            "\u001b[2K     \u001b[90m━━━━━━━━━━━━━━━━━━━━━━━━━━━━━━━━━━━━━━━━\u001b[0m \u001b[32m12.8/12.8 MB\u001b[0m \u001b[31m82.5 MB/s\u001b[0m eta \u001b[36m0:00:00\u001b[0m\n",
            "\u001b[?25hCollecting qiskit-ibmq-provider==0.20.2\n",
            "  Downloading qiskit_ibmq_provider-0.20.2-py3-none-any.whl (241 kB)\n",
            "\u001b[2K     \u001b[90m━━━━━━━━━━━━━━━━━━━━━━━━━━━━━━━━━━━━━━\u001b[0m \u001b[32m241.5/241.5 KB\u001b[0m \u001b[31m25.8 MB/s\u001b[0m eta \u001b[36m0:00:00\u001b[0m\n",
            "\u001b[?25hRequirement already satisfied: scipy>=1.0 in /usr/local/lib/python3.9/dist-packages (from qiskit-aer==0.12.0->qiskit) (1.10.1)\n",
            "Requirement already satisfied: numpy>=1.16.3 in /usr/local/lib/python3.9/dist-packages (from qiskit-aer==0.12.0->qiskit) (1.22.4)\n",
            "Requirement already satisfied: python-dateutil>=2.8.0 in /usr/local/lib/python3.9/dist-packages (from qiskit-ibmq-provider==0.20.2->qiskit) (2.8.2)\n",
            "Collecting websocket-client>=1.5.1\n",
            "  Downloading websocket_client-1.5.1-py3-none-any.whl (55 kB)\n",
            "\u001b[2K     \u001b[90m━━━━━━━━━━━━━━━━━━━━━━━━━━━━━━━━━━━━━━━━\u001b[0m \u001b[32m55.9/55.9 KB\u001b[0m \u001b[31m6.7 MB/s\u001b[0m eta \u001b[36m0:00:00\u001b[0m\n",
            "\u001b[?25hCollecting requests-ntlm<=1.1.0\n",
            "  Downloading requests_ntlm-1.1.0-py2.py3-none-any.whl (5.7 kB)\n",
            "Collecting websockets>=10.0\n",
            "  Downloading websockets-10.4-cp39-cp39-manylinux_2_5_x86_64.manylinux1_x86_64.manylinux_2_17_x86_64.manylinux2014_x86_64.whl (106 kB)\n",
            "\u001b[2K     \u001b[90m━━━━━━━━━━━━━━━━━━━━━━━━━━━━━━━━━━━━━━\u001b[0m \u001b[32m106.5/106.5 KB\u001b[0m \u001b[31m13.5 MB/s\u001b[0m eta \u001b[36m0:00:00\u001b[0m\n",
            "\u001b[?25hRequirement already satisfied: requests>=2.19 in /usr/local/lib/python3.9/dist-packages (from qiskit-ibmq-provider==0.20.2->qiskit) (2.27.1)\n",
            "Requirement already satisfied: urllib3>=1.21.1 in /usr/local/lib/python3.9/dist-packages (from qiskit-ibmq-provider==0.20.2->qiskit) (1.26.15)\n",
            "Requirement already satisfied: psutil>=5 in /usr/local/lib/python3.9/dist-packages (from qiskit-terra==0.23.3->qiskit) (5.9.4)\n",
            "Collecting ply>=3.10\n",
            "  Downloading ply-3.11-py2.py3-none-any.whl (49 kB)\n",
            "\u001b[2K     \u001b[90m━━━━━━━━━━━━━━━━━━━━━━━━━━━━━━━━━━━━━━━━\u001b[0m \u001b[32m49.6/49.6 KB\u001b[0m \u001b[31m6.3 MB/s\u001b[0m eta \u001b[36m0:00:00\u001b[0m\n",
            "\u001b[?25hCollecting symengine>=0.9\n",
            "  Downloading symengine-0.10.0-cp39-cp39-manylinux_2_12_x86_64.manylinux2010_x86_64.whl (37.5 MB)\n",
            "\u001b[2K     \u001b[90m━━━━━━━━━━━━━━━━━━━━━━━━━━━━━━━━━━━━━━━━\u001b[0m \u001b[32m37.5/37.5 MB\u001b[0m \u001b[31m17.1 MB/s\u001b[0m eta \u001b[36m0:00:00\u001b[0m\n",
            "\u001b[?25hCollecting rustworkx>=0.12.0\n",
            "  Downloading rustworkx-0.12.1-cp39-cp39-manylinux_2_17_x86_64.manylinux2014_x86_64.whl (1.9 MB)\n",
            "\u001b[2K     \u001b[90m━━━━━━━━━━━━━━━━━━━━━━━━━━━━━━━━━━━━━━━━\u001b[0m \u001b[32m1.9/1.9 MB\u001b[0m \u001b[31m83.5 MB/s\u001b[0m eta \u001b[36m0:00:00\u001b[0m\n",
            "\u001b[?25hRequirement already satisfied: sympy>=1.3 in /usr/local/lib/python3.9/dist-packages (from qiskit-terra==0.23.3->qiskit) (1.11.1)\n",
            "Collecting dill>=0.3\n",
            "  Downloading dill-0.3.6-py3-none-any.whl (110 kB)\n",
            "\u001b[2K     \u001b[90m━━━━━━━━━━━━━━━━━━━━━━━━━━━━━━━━━━━━━━\u001b[0m \u001b[32m110.5/110.5 KB\u001b[0m \u001b[31m13.3 MB/s\u001b[0m eta \u001b[36m0:00:00\u001b[0m\n",
            "\u001b[?25hCollecting stevedore>=3.0.0\n",
            "  Downloading stevedore-5.0.0-py3-none-any.whl (49 kB)\n",
            "\u001b[2K     \u001b[90m━━━━━━━━━━━━━━━━━━━━━━━━━━━━━━━━━━━━━━━━\u001b[0m \u001b[32m49.6/49.6 KB\u001b[0m \u001b[31m5.9 MB/s\u001b[0m eta \u001b[36m0:00:00\u001b[0m\n",
            "\u001b[?25hRequirement already satisfied: six>=1.5 in /usr/local/lib/python3.9/dist-packages (from python-dateutil>=2.8.0->qiskit-ibmq-provider==0.20.2->qiskit) (1.16.0)\n",
            "Requirement already satisfied: idna<4,>=2.5 in /usr/local/lib/python3.9/dist-packages (from requests>=2.19->qiskit-ibmq-provider==0.20.2->qiskit) (3.4)\n",
            "Requirement already satisfied: charset-normalizer~=2.0.0 in /usr/local/lib/python3.9/dist-packages (from requests>=2.19->qiskit-ibmq-provider==0.20.2->qiskit) (2.0.12)\n",
            "Requirement already satisfied: certifi>=2017.4.17 in /usr/local/lib/python3.9/dist-packages (from requests>=2.19->qiskit-ibmq-provider==0.20.2->qiskit) (2022.12.7)\n",
            "Collecting ntlm-auth>=1.0.2\n",
            "  Downloading ntlm_auth-1.5.0-py2.py3-none-any.whl (29 kB)\n",
            "Requirement already satisfied: cryptography>=1.3 in /usr/local/lib/python3.9/dist-packages (from requests-ntlm<=1.1.0->qiskit-ibmq-provider==0.20.2->qiskit) (40.0.1)\n",
            "Collecting pbr!=2.1.0,>=2.0.0\n",
            "  Downloading pbr-5.11.1-py2.py3-none-any.whl (112 kB)\n",
            "\u001b[2K     \u001b[90m━━━━━━━━━━━━━━━━━━━━━━━━━━━━━━━━━━━━━━\u001b[0m \u001b[32m112.7/112.7 KB\u001b[0m \u001b[31m13.8 MB/s\u001b[0m eta \u001b[36m0:00:00\u001b[0m\n",
            "\u001b[?25hRequirement already satisfied: mpmath>=0.19 in /usr/local/lib/python3.9/dist-packages (from sympy>=1.3->qiskit-terra==0.23.3->qiskit) (1.3.0)\n",
            "Requirement already satisfied: cffi>=1.12 in /usr/local/lib/python3.9/dist-packages (from cryptography>=1.3->requests-ntlm<=1.1.0->qiskit-ibmq-provider==0.20.2->qiskit) (1.15.1)\n",
            "Requirement already satisfied: pycparser in /usr/local/lib/python3.9/dist-packages (from cffi>=1.12->cryptography>=1.3->requests-ntlm<=1.1.0->qiskit-ibmq-provider==0.20.2->qiskit) (2.21)\n",
            "Building wheels for collected packages: qiskit\n",
            "  Building wheel for qiskit (setup.py) ... \u001b[?25l\u001b[?25hdone\n",
            "  Created wheel for qiskit: filename=qiskit-0.42.1-py3-none-any.whl size=12938 sha256=f16e908136f4f75a109633bbca6334c1fded70a93715f8126be67db9946ee908\n",
            "  Stored in directory: /root/.cache/pip/wheels/40/64/74/29c046bda04fd60f3f6b2e244fa85b70f219e363fc3373f541\n",
            "Successfully built qiskit\n",
            "Installing collected packages: ply, websockets, websocket-client, symengine, rustworkx, pbr, ntlm-auth, dill, stevedore, requests-ntlm, qiskit-terra, qiskit-ibmq-provider, qiskit-aer, qiskit\n",
            "Successfully installed dill-0.3.6 ntlm-auth-1.5.0 pbr-5.11.1 ply-3.11 qiskit-0.42.1 qiskit-aer-0.12.0 qiskit-ibmq-provider-0.20.2 qiskit-terra-0.23.3 requests-ntlm-1.1.0 rustworkx-0.12.1 stevedore-5.0.0 symengine-0.10.0 websocket-client-1.5.1 websockets-10.4\n",
            "Looking in indexes: https://pypi.org/simple, https://us-python.pkg.dev/colab-wheels/public/simple/\n",
            "Collecting qiskit-aer-gpu\n",
            "  Downloading qiskit_aer_gpu-0.11.2-cp39-cp39-manylinux_2_12_x86_64.manylinux2010_x86_64.whl (16.4 MB)\n",
            "\u001b[2K     \u001b[90m━━━━━━━━━━━━━━━━━━━━━━━━━━━━━━━━━━━━━━━━\u001b[0m \u001b[32m16.4/16.4 MB\u001b[0m \u001b[31m84.0 MB/s\u001b[0m eta \u001b[36m0:00:00\u001b[0m\n",
            "\u001b[?25hRequirement already satisfied: numpy>=1.16.3 in /usr/local/lib/python3.9/dist-packages (from qiskit-aer-gpu) (1.22.4)\n",
            "Requirement already satisfied: scipy>=1.0 in /usr/local/lib/python3.9/dist-packages (from qiskit-aer-gpu) (1.10.1)\n",
            "Requirement already satisfied: qiskit-terra>=0.21.0 in /usr/local/lib/python3.9/dist-packages (from qiskit-aer-gpu) (0.23.3)\n",
            "Requirement already satisfied: sympy>=1.3 in /usr/local/lib/python3.9/dist-packages (from qiskit-terra>=0.21.0->qiskit-aer-gpu) (1.11.1)\n",
            "Requirement already satisfied: stevedore>=3.0.0 in /usr/local/lib/python3.9/dist-packages (from qiskit-terra>=0.21.0->qiskit-aer-gpu) (5.0.0)\n",
            "Requirement already satisfied: python-dateutil>=2.8.0 in /usr/local/lib/python3.9/dist-packages (from qiskit-terra>=0.21.0->qiskit-aer-gpu) (2.8.2)\n",
            "Requirement already satisfied: rustworkx>=0.12.0 in /usr/local/lib/python3.9/dist-packages (from qiskit-terra>=0.21.0->qiskit-aer-gpu) (0.12.1)\n",
            "Requirement already satisfied: symengine>=0.9 in /usr/local/lib/python3.9/dist-packages (from qiskit-terra>=0.21.0->qiskit-aer-gpu) (0.10.0)\n",
            "Requirement already satisfied: dill>=0.3 in /usr/local/lib/python3.9/dist-packages (from qiskit-terra>=0.21.0->qiskit-aer-gpu) (0.3.6)\n",
            "Requirement already satisfied: ply>=3.10 in /usr/local/lib/python3.9/dist-packages (from qiskit-terra>=0.21.0->qiskit-aer-gpu) (3.11)\n",
            "Requirement already satisfied: psutil>=5 in /usr/local/lib/python3.9/dist-packages (from qiskit-terra>=0.21.0->qiskit-aer-gpu) (5.9.4)\n",
            "Requirement already satisfied: six>=1.5 in /usr/local/lib/python3.9/dist-packages (from python-dateutil>=2.8.0->qiskit-terra>=0.21.0->qiskit-aer-gpu) (1.16.0)\n",
            "Requirement already satisfied: pbr!=2.1.0,>=2.0.0 in /usr/local/lib/python3.9/dist-packages (from stevedore>=3.0.0->qiskit-terra>=0.21.0->qiskit-aer-gpu) (5.11.1)\n",
            "Requirement already satisfied: mpmath>=0.19 in /usr/local/lib/python3.9/dist-packages (from sympy>=1.3->qiskit-terra>=0.21.0->qiskit-aer-gpu) (1.3.0)\n",
            "Installing collected packages: qiskit-aer-gpu\n",
            "Successfully installed qiskit-aer-gpu-0.11.2\n"
          ]
        }
      ]
    },
    {
      "cell_type": "code",
      "execution_count": null,
      "metadata": {
        "id": "oR5VH2afsnl6"
      },
      "outputs": [],
      "source": [
        "import torch\n",
        "from torch.nn import MSELoss\n",
        "from torch.autograd import Variable\n",
        "\n",
        "from qiskit import QuantumCircuit\n",
        "from qiskit.circuit import Parameter\n",
        "from qiskit.compiler import transpile\n",
        "from qiskit import Aer\n",
        "\n",
        "import gym\n",
        "\n",
        "import numpy as np\n",
        "from tqdm import tqdm\n",
        "import time\n",
        "import random"
      ]
    },
    {
      "cell_type": "code",
      "execution_count": null,
      "metadata": {
        "id": "DSJRTItmsnl9"
      },
      "outputs": [],
      "source": [
        "class ReplayMemory():\n",
        "\n",
        "    # Initialize our replay memory\n",
        "    def __init__(self, capacity):\n",
        "        self.transitions = []\n",
        "        self.capacity = capacity\n",
        "\n",
        "    # Add a transition value to our memory\n",
        "    def store_transition(self, transition):\n",
        "        if len(self.transitions) < self.capacity:\n",
        "            self.transitions.append(transition)\n",
        "        else:\n",
        "            self.transitions.pop(random.randint(0, self.capacity - 1))\n",
        "            self.transitions.append(transition)\n",
        "\n",
        "    def size(self):\n",
        "        return len(self.transitions)\n",
        "\n",
        "    # Sample a random batch from our memory\n",
        "    def sample(self, batch_size):\n",
        "        return random.sample(self.transitions, batch_size)"
      ]
    },
    {
      "cell_type": "code",
      "execution_count": null,
      "metadata": {
        "id": "zUli9Utasnl_"
      },
      "outputs": [],
      "source": [
        "class Agent():\n",
        "    \n",
        "    def __init__(self, numQubits=4, depth=1):\n",
        "        # Number of qubits used (# of wires)\n",
        "        self.numQubits = numQubits\n",
        "\n",
        "        # Number of times to apply the CNOT / rotation module\n",
        "        self.depth = depth\n",
        "\n",
        "        # Action-value function approximator\n",
        "        self.qc = QuantumCircuit(numQubits, numQubits)\n",
        "\n",
        "        # State encoding parameters\n",
        "        # thetas: parameters used to store angles to rotate in the x direction by\n",
        "        # phis: parameters used to store angles to rotate in the z direction by\n",
        "        self.thetas = [Parameter(f'theta_{i}') for i in range(self.numQubits)]\n",
        "        self.phis = [Parameter(f'phi_{i}') for i in range(self.numQubits)]\n",
        "\n",
        "        # Creates rotations to be used in getting outputs\n",
        "        self.alpha_rotations = [Parameter(f'alpha_{i}') for i in range(self.numQubits)]\n",
        "        self.beta_rotations = [Parameter(f'beta_{i}') for i in range(self.numQubits)]\n",
        "        self.gamma_rotations = [Parameter(f'gamma_{i}') for i in range(self.numQubits)]\n",
        "\n",
        "        # Creates a backend to run the circuit on\n",
        "        self.backend = Aer.get_backend('qasm_simulator')\n",
        "        self.backend.set_options(device='GPU')\n",
        "\n",
        "        # Initialize state preparation gates\n",
        "        self.state_preparation()\n",
        "\n",
        "        # Create a layer\n",
        "        self.init_layer()\n",
        "\n",
        "        # Initialize measurement\n",
        "        self.init_measurement()\n",
        "\n",
        "    # State is a decimal value from 0 to 16\n",
        "    # Converts this decimal value to a binary list\n",
        "    def get_binary_state_encoding(self, state):\n",
        "        encoding = [int(i) for i in bin(state)[2:]]\n",
        "        while len(encoding) < self.numQubits:\n",
        "            encoding = [0] + encoding\n",
        "        return encoding\n",
        "\n",
        "    # Creates a parameterized state encoding circuit\n",
        "    def state_preparation(self):\n",
        "        \n",
        "        # Initialize circuit with params\n",
        "        for wire in range(self.numQubits):\n",
        "            self.qc.rx(np.pi * self.thetas[wire], wire)\n",
        "        \n",
        "        for wire in range(self.numQubits):\n",
        "            self.qc.rz(np.pi * self.phis[wire], wire)\n",
        "    \n",
        "    # Binds theta values and phi values to the quantum circuit\n",
        "    # state: index of the state\n",
        "    def bind_state_preparation_parameters(self, state, circuit):\n",
        "        angles = self.get_binary_state_encoding(state)\n",
        "\n",
        "        # Make sure the number of theta values and phi values are equal to the number of qubits in the circuit\n",
        "        assert len(angles) == self.numQubits\n",
        "\n",
        "        circuit = circuit.bind_parameters(dict(zip(self.thetas, angles)))\n",
        "        circuit = circuit.bind_parameters(dict(zip(self.phis, angles)))\n",
        "\n",
        "        return circuit\n",
        "    \n",
        "    # Creates a rotation layer\n",
        "    def init_layer(self):\n",
        "        # Create CNOT gates at each layer of the circuit\n",
        "        for wire in range(self.numQubits - 1):\n",
        "            self.qc.cx(wire, wire + 1)\n",
        "        \n",
        "        # Create rotations at each level of the circuit\n",
        "        for wire in range(self.numQubits):\n",
        "            self.qc.rx(self.alpha_rotations[wire], wire)\n",
        "            self.qc.ry(self.beta_rotations[wire], wire)\n",
        "            self.qc.rz(self.gamma_rotations[wire], wire)\n",
        "\n",
        "    # Binds one layer of a parameterized circuit to parameters\n",
        "    # alpha: array storing rotation values in x direction\n",
        "    # beta: array storing rotation values in y direction\n",
        "    # gamma: array storing rotation values in z direction\n",
        "    def bind_layer(self, alphas, betas, gammas, circuit):\n",
        "        # Length of alpha, beta, and gamma must be the same as the number of wires in the circuit\n",
        "        assert len(alphas) == self.numQubits                     \n",
        "        assert len(betas) == self.numQubits\n",
        "        assert len(gammas) == self.numQubits\n",
        "\n",
        "        circuit = circuit.bind_parameters(dict(zip(self.alpha_rotations, [alpha.item() for alpha in alphas])))\n",
        "        circuit = circuit.bind_parameters(dict(zip(self.beta_rotations, [beta.item() for beta in betas])))\n",
        "        circuit = circuit.bind_parameters(dict(zip(self.gamma_rotations, [gamma.item() for gamma in gammas])))\n",
        "\n",
        "        return circuit\n",
        "    \n",
        "    # Adds a measurement layer to the end of the circuit\n",
        "    def init_measurement(self):\n",
        "        for wire in range(self.numQubits):\n",
        "            self.qc.measure(wire, wire)\n",
        "\n",
        "    def run_job(self, circuit, num_iterations=10):\n",
        "        # Create a job to run on our circuit\n",
        "        job = self.backend.run(transpile(circuit, self.backend), shots=num_iterations)\n",
        "\n",
        "        # Get the result of our job\n",
        "        results = job.result()\n",
        "\n",
        "        # Get the number of times each result appeared\n",
        "        result_counts = results.get_counts(circuit)\n",
        "\n",
        "        # For each result we got, get the number of times each bit appeared\n",
        "        # The bit that was 1 most often is the index of our selected action\n",
        "        counts = [0] * self.numQubits\n",
        "        for output in result_counts.keys():\n",
        "            for wire in range(self.numQubits):\n",
        "                counts[wire] += int(output[wire]) * result_counts[output]\n",
        "\n",
        "        return counts\n",
        "\n",
        "    # Outputs a score for each action\n",
        "    # If expectation value from qubit 0 is highest, then action selected is LEFT\n",
        "    # If expectation value from qubit 1 is highest, then action selected is DOWN\n",
        "    # If expectation value from qubit 2 is highest, then action selected is RIGHT\n",
        "    # If expectation value from qubit 3 is highest, then action selected is UP\n",
        "    # state: the state to select an action from\n",
        "    # params: tuple containing alphas, betas, and gammas\n",
        "    # num_iterations: the number of times to use to calculate our expectation values\n",
        "    # epsilon: percentage of the time to choose a random action\n",
        "    def get_q_values(self, state, params, num_iterations=10, epsilon=0.75):\n",
        "        if np.random.rand() < epsilon:\n",
        "            random_q = np.random.rand(4)\n",
        "            normalized_random_q = [i / np.sum(random_q) for i in random_q]\n",
        "            return normalized_random_q\n",
        "\n",
        "        # Binds the state preparation parameters to the state we want to select the best action from\n",
        "        bound_copy = self.qc.copy()\n",
        "        bound_copy = self.bind_state_preparation_parameters(state, bound_copy)\n",
        "        bound_copy = self.bind_layer(*params, bound_copy)\n",
        "\n",
        "        counts = self.run_job(bound_copy, num_iterations)\n",
        "        \n",
        "        # Normalization\n",
        "        counts = [i / (sum(counts) if sum(counts) != 0 else 1 / len(counts)) for i in counts]\n",
        "\n",
        "        return counts"
      ]
    },
    {
      "cell_type": "code",
      "execution_count": null,
      "metadata": {
        "id": "_baxmGnPsnmD"
      },
      "outputs": [],
      "source": [
        "class Runner():\n",
        "\n",
        "    # Initialize the runner class\n",
        "    # num_episodes: the number of episodes to run\n",
        "    # epsilon: the percentage of the time to select a random action\n",
        "    # capacity: the capacity of the replay memory\n",
        "    def __init__(self, num_episodes=100, epsilon=0.1, capacity=1000, batch_size=16):\n",
        "        self.num_episodes = num_episodes\n",
        "        self.epsilon = epsilon\n",
        "        self.memory = ReplayMemory(capacity)\n",
        "        self.agent = Agent(numQubits=4, depth=1)\n",
        "        self.target_agent = Agent(numQubits=4, depth=1)\n",
        "        self.parameters = Variable(torch.tensor(np.random.rand(3, 4) * 2 - 1).type(torch.DoubleTensor), requires_grad=True)\n",
        "        self.target_parameters = self.parameters.clone().detach()\n",
        "        self.env = gym.make('FrozenLake-v1', is_slippery=False)\n",
        "        self.batch_size = batch_size\n",
        "        self.terminal_state = 15\n",
        "        self.opt = torch.optim.RMSprop([self.parameters], lr=0.01, alpha=0.99, eps=1e-08)\n",
        "        self.gamma = 0.1\n",
        "        self.steps = 0\n",
        "        self.update_target_every_n_steps = 10\n",
        "        self.labels = torch.tensor([])\n",
        "        self.cumulative_rewards = []\n",
        "        \n",
        "    def criterion(self, y_pred, y):\n",
        "        return torch.mean((y_pred - y) ** 2)\n",
        "    \n",
        "    def backward_step(self):\n",
        "        self.opt.zero_grad()\n",
        "        loss = self.criterion(self.predictions, self.labels)\n",
        "        loss.backward()\n",
        "        print(self.parameters.grad)\n",
        "        print(self.labels.grad)\n",
        "        print(self.predictions.grad)\n",
        "        return loss\n",
        "\n",
        "    # Run the algorithm for num_episodes\n",
        "    # num_episodes: the number of episodes to run (M)\n",
        "    def run(self):\n",
        "        # print(self.parameters)\n",
        "        # Initialize random parameters\n",
        "        for ep in tqdm(range(self.num_episodes)):\n",
        "            initial_state = self.env.reset()\n",
        "            prev_state = initial_state\n",
        "            done = False\n",
        "            cumulative_ep_reward = 0\n",
        "            \n",
        "            while not done:\n",
        "                # init_time = time.time()\n",
        "                # ts_0, ts_1, ts_2, ts_3, ts_4, ts_5 = 0, 0, 0, 0, 0, 0\n",
        "\n",
        "                self.steps += 1\n",
        "                \n",
        "                # Use our quantum function approximator to get an action\n",
        "                # alphas, betas, gammas, = self.parameters\n",
        "                # action = np.argmax(self.agent.get_q_values(initial_state, (alphas, betas, gammas)))\n",
        "                action = np.argmax(self.agent.get_q_values(initial_state, self.parameters))\n",
        "\n",
        "                # ts_0 = time.time() - init_time\n",
        "\n",
        "                # Take selected action\n",
        "                observation, reward, done, info = self.env.step(action)\n",
        "\n",
        "                # ts_1 = time.time() - (init_time + ts_0)\n",
        "                \n",
        "                # Reward shaping to penalize for falling in a hole\n",
        "                if done and observation != self.terminal_state:\n",
        "                    reward -= 1\n",
        "\n",
        "                # Update cumulative reward\n",
        "                cumulative_ep_reward += reward\n",
        "\n",
        "                # Store experience\n",
        "                self.memory.store_transition((prev_state, action, reward, observation))\n",
        "                prev_state = observation\n",
        "\n",
        "                # If we have very little experience built up, continue\n",
        "                if self.memory.size() < self.batch_size:\n",
        "                    continue\n",
        "                \n",
        "                # Get minibatch of transitions\n",
        "                transitions = self.memory.sample(self.batch_size)\n",
        "\n",
        "                # ts_2 = time.time() - (init_time + ts_1)\n",
        "\n",
        "                # Get labels for the transitions\n",
        "                labels = []\n",
        "                for transition in transitions:\n",
        "                    # Reward\n",
        "                    label = transition[2]\n",
        "                    if transition[3] != self.terminal_state:\n",
        "                        # target_alphas, target_betas, target_gammas = self.target_parameters\n",
        "                        # label += self.gamma * np.max(self.target_agent.get_q_values(initial_state, (target_alphas, target_betas, target_gammas)))\n",
        "                        label += self.gamma * np.max(self.target_agent.get_q_values(transition[3], self.target_parameters))\n",
        "                    labels.append(label)\n",
        "\n",
        "                self.labels = torch.tensor(labels)\n",
        "\n",
        "                self.predictions = torch.tensor([self.agent.get_q_values(transition[0], self.parameters)[transition[1]] for transition in transitions], requires_grad=True)\n",
        "                # ts_3 = time.time() - (init_time + ts_2)\n",
        "                \n",
        "                # Backwards step\n",
        "                self.opt.step(self.backward_step)\n",
        "\n",
        "                # ts_4 = time.time() - (init_time + ts_3)\n",
        "\n",
        "                # Update target parameters\n",
        "                if self.steps % self.update_target_every_n_steps == 0:\n",
        "                    self.target_parameters = self.parameters.clone().detach()\n",
        "                \n",
        "                # ts_5 = time.time() - (init_time + ts_4)\n",
        "\n",
        "                # print(ts_0, ts_1, ts_2, ts_3, ts_4, ts_5)\n",
        "                # print(time.time() - init_time)\n",
        "\n",
        "            self.cumulative_rewards.append(cumulative_ep_reward)\n",
        "            "
      ]
    },
    {
      "cell_type": "code",
      "execution_count": null,
      "metadata": {
        "colab": {
          "base_uri": "https://localhost:8080/"
        },
        "id": "4aMB_5LzsnmH",
        "outputId": "b3fc37b6-3eb4-4602-9bbc-a362f00242c0"
      },
      "outputs": [
        {
          "output_type": "stream",
          "name": "stderr",
          "text": [
            "/usr/local/lib/python3.9/dist-packages/gym/core.py:317: DeprecationWarning: \u001b[33mWARN: Initializing wrapper in old step API which returns one bool instead of two. It is recommended to set `new_step_api=True` to use new step API. This will be the default behaviour in future.\u001b[0m\n",
            "  deprecation(\n",
            "/usr/local/lib/python3.9/dist-packages/gym/wrappers/step_api_compatibility.py:39: DeprecationWarning: \u001b[33mWARN: Initializing environment in old step API which returns one bool instead of two. It is recommended to set `new_step_api=True` to use new step API. This will be the default behaviour in future.\u001b[0m\n",
            "  deprecation(\n",
            " 10%|█         | 1/10 [00:00<00:02,  3.15it/s]"
          ]
        },
        {
          "output_type": "stream",
          "name": "stdout",
          "text": [
            "None\n",
            "None\n",
            "tensor([ 0.0372,  0.0410,  0.0021,  0.0327,  0.0372,  0.0964,  0.0069,  0.0051,\n",
            "         0.0247,  0.0549, -0.0015, -0.0056,  0.1410, -0.0009,  0.0213,  0.0604],\n",
            "       dtype=torch.float64)\n",
            "None\n",
            "None\n",
            "tensor([ 0.0250,  0.0231,  0.0077,  0.0185,  0.0365,  0.0372,  0.0561,  0.1204,\n",
            "         0.0174,  0.0784, -0.0050,  0.0283,  0.0497,  0.0304,  0.0086,  0.0298],\n",
            "       dtype=torch.float64)\n",
            "None\n",
            "None\n",
            "tensor([0.0260, 0.0033, 0.0156, 0.0153, 0.0541, 0.0246, 0.0228, 0.0368, 0.1591,\n",
            "        0.0357, 0.0087, 0.0740, 0.0438, 0.0303, 0.0518, 0.0153],\n",
            "       dtype=torch.float64)\n"
          ]
        },
        {
          "output_type": "stream",
          "name": "stderr",
          "text": [
            "\r 20%|██        | 2/10 [00:01<00:08,  1.02s/it]"
          ]
        },
        {
          "output_type": "stream",
          "name": "stdout",
          "text": [
            "None\n",
            "None\n",
            "tensor([-0.0062,  0.0710,  0.0556,  0.0044,  0.0727,  0.0559,  0.1726,  0.0156,\n",
            "         0.1648,  0.0631,  0.0309,  0.0513,  0.0108, -0.0030,  0.0119,  0.0441],\n",
            "       dtype=torch.float64)\n",
            "None\n",
            "None\n",
            "tensor([-0.0066,  0.0260,  0.0146,  0.0454,  0.0043,  0.0282,  0.0020,  0.0315,\n",
            "         0.0294,  0.0237,  0.0160,  0.1516,  0.0200,  0.1533,  0.0781,  0.0056],\n",
            "       dtype=torch.float64)\n",
            "None\n",
            "None\n",
            "tensor([-0.0009,  0.0049,  0.0230,  0.0058,  0.0175,  0.0299,  0.0443,  0.0026,\n",
            "         0.0326,  0.0185,  0.0347,  0.0041, -0.0031,  0.0214,  0.1439,  0.0225],\n",
            "       dtype=torch.float64)\n",
            "None\n",
            "None\n",
            "tensor([ 0.0511,  0.0236,  0.0358,  0.0289,  0.1630, -0.0062,  0.0270,  0.0567,\n",
            "         0.0342,  0.0244,  0.0976,  0.0494,  0.0085, -0.0056,  0.0341,  0.0308],\n",
            "       dtype=torch.float64)\n",
            "None\n",
            "None\n",
            "tensor([ 0.0074,  0.0345,  0.0545,  0.0496,  0.0163,  0.0449,  0.0584,  0.1514,\n",
            "         0.1399,  0.0607,  0.0389,  0.0574, -0.0023,  0.0009,  0.0455,  0.0454],\n",
            "       dtype=torch.float64)\n",
            "None\n",
            "None\n",
            "tensor([ 9.4797e-03,  3.0548e-02,  5.6771e-02, -1.3344e-04,  3.5101e-02,\n",
            "         7.7423e-02,  4.9474e-02,  1.5783e-02,  4.8873e-02,  1.7293e-02,\n",
            "         5.8430e-03,  1.0089e-01,  1.5185e-01,  2.6193e-02,  1.8303e-02,\n",
            "         2.4365e-02], dtype=torch.float64)\n",
            "None\n",
            "None\n",
            "tensor([ 0.0171,  0.0219, -0.0012,  0.0357, -0.0051,  0.0377,  0.0353,  0.0153,\n",
            "         0.0846,  0.0218,  0.0317,  0.0329,  0.1446,  0.0465,  0.0117,  0.0484],\n",
            "       dtype=torch.float64)\n"
          ]
        },
        {
          "output_type": "stream",
          "name": "stderr",
          "text": [
            "\r 30%|███       | 3/10 [00:03<00:09,  1.34s/it]"
          ]
        },
        {
          "output_type": "stream",
          "name": "stdout",
          "text": [
            "None\n",
            "None\n",
            "tensor([ 3.3820e-02,  1.5141e-02,  6.7641e-02,  2.7572e-02,  6.5841e-02,\n",
            "         3.2475e-02,  3.1903e-02, -4.8462e-06,  1.4724e-01,  3.8538e-02,\n",
            "         2.6660e-02,  3.5954e-02,  3.1025e-02,  3.2114e-02,  1.4417e-01,\n",
            "         3.2856e-02], dtype=torch.float64)\n",
            "None\n",
            "None\n",
            "tensor([ 0.0120, -0.0004,  0.0499,  0.0156,  0.0192,  0.0082,  0.0022,  0.0365,\n",
            "         0.0459,  0.0025, -0.0028,  0.0560,  0.1606,  0.0141,  0.0211,  0.1191],\n",
            "       dtype=torch.float64)\n",
            "None\n",
            "None\n",
            "tensor([0.0204, 0.0009, 0.0789, 0.0493, 0.0153, 0.0376, 0.1252, 0.0285, 0.0401,\n",
            "        0.0311, 0.0354, 0.0227, 0.1700, 0.0223, 0.0047, 0.0232],\n",
            "       dtype=torch.float64)\n",
            "None\n",
            "None\n",
            "tensor([ 0.0212,  0.0074,  0.0239,  0.0378,  0.0443,  0.0114,  0.0101, -0.0010,\n",
            "        -0.0016,  0.0127,  0.0447,  0.0188,  0.0612,  0.0323,  0.1279,  0.0488],\n",
            "       dtype=torch.float64)\n",
            "None\n",
            "None\n",
            "tensor([ 0.0166,  0.0275,  0.0602,  0.0438, -0.0027,  0.0489,  0.0455,  0.0193,\n",
            "         0.0141,  0.1355,  0.0232,  0.0409,  0.0114, -0.0021,  0.1476,  0.0269],\n",
            "       dtype=torch.float64)\n",
            "None\n",
            "None\n",
            "tensor([ 0.0316, -0.0053,  0.0333,  0.1582,  0.0303,  0.0004,  0.0669,  0.0439,\n",
            "         0.0297,  0.0017,  0.0192,  0.0423,  0.0572,  0.0025,  0.0080, -0.0014],\n",
            "       dtype=torch.float64)\n",
            "None\n",
            "None\n",
            "tensor([ 0.0118,  0.0085,  0.0232, -0.0045,  0.0616,  0.0054,  0.0101,  0.0082,\n",
            "         0.0287,  0.1565,  0.0170,  0.0585, -0.0066,  0.0443,  0.0470,  0.0215],\n",
            "       dtype=torch.float64)\n",
            "None\n",
            "None\n",
            "tensor([ 0.0373, -0.0016,  0.0303,  0.0265,  0.0237,  0.0111,  0.0253,  0.1534,\n",
            "        -0.0066,  0.0151,  0.0637,  0.0471,  0.1196,  0.0477,  0.0197,  0.0194],\n",
            "       dtype=torch.float64)\n"
          ]
        },
        {
          "output_type": "stream",
          "name": "stderr",
          "text": [
            "\r 40%|████      | 4/10 [00:05<00:08,  1.48s/it]"
          ]
        },
        {
          "output_type": "stream",
          "name": "stdout",
          "text": [
            "None\n",
            "None\n",
            "tensor([-1.0430e-04,  2.4430e-02,  2.5568e-02, -6.0291e-03,  4.6171e-02,\n",
            "         2.3302e-02,  1.2154e-01, -4.0002e-03,  3.2773e-02,  1.4708e-02,\n",
            "         3.7695e-02,  4.8357e-02,  1.2808e-01,  5.0780e-02, -6.2500e-03,\n",
            "         4.4219e-02], dtype=torch.float64)\n",
            "None\n",
            "None\n",
            "tensor([ 0.0206,  0.1620,  0.0249,  0.0202,  0.0149,  0.0366,  0.0535,  0.0083,\n",
            "         0.0379,  0.0475,  0.0382,  0.0245,  0.1415,  0.0370,  0.0180, -0.0032],\n",
            "       dtype=torch.float64)\n",
            "None\n",
            "None\n",
            "tensor([ 0.0337,  0.0368,  0.1769,  0.0563,  0.0266, -0.0004,  0.1026,  0.0462,\n",
            "         0.0166,  0.0156,  0.0270,  0.0409,  0.0402,  0.0317,  0.0037,  0.0129],\n",
            "       dtype=torch.float64)\n",
            "None\n",
            "None\n",
            "tensor([3.3854e-02, 2.4027e-02, 3.4507e-02, 2.1337e-02, 1.7940e-02, 1.5266e-02,\n",
            "        3.2675e-02, 1.4611e-02, 1.6438e-01, 2.4964e-02, 2.8362e-02, 6.2850e-02,\n",
            "        4.5736e-03, 3.1651e-02, 2.3587e-02, 1.6929e-05], dtype=torch.float64)\n",
            "None\n",
            "None\n",
            "tensor([0.0544, 0.0580, 0.0189, 0.0373, 0.0483, 0.0172, 0.0134, 0.0335, 0.0324,\n",
            "        0.0033, 0.1527, 0.0439, 0.0240, 0.0115, 0.0352, 0.1619],\n",
            "       dtype=torch.float64)\n",
            "None\n",
            "None\n",
            "tensor([0.0459, 0.0373, 0.0221, 0.0263, 0.0242, 0.0530, 0.0134, 0.0216, 0.0405,\n",
            "        0.0219, 0.0509, 0.0223, 0.0177, 0.0237, 0.0735, 0.0113],\n",
            "       dtype=torch.float64)\n",
            "None\n",
            "None\n",
            "tensor([ 0.0513,  0.0081,  0.0151,  0.1540,  0.0032,  0.0293,  0.0224,  0.0271,\n",
            "         0.0026,  0.0010,  0.0021,  0.0444, -0.0065,  0.0168,  0.0133,  0.0381],\n",
            "       dtype=torch.float64)\n",
            "None\n",
            "None\n",
            "tensor([0.0061, 0.0298, 0.0436, 0.0788, 0.0233, 0.0313, 0.0413, 0.0194, 0.0053,\n",
            "        0.0380, 0.0381, 0.0217, 0.1554, 0.0417, 0.0007, 0.0262],\n",
            "       dtype=torch.float64)\n"
          ]
        },
        {
          "output_type": "stream",
          "name": "stderr",
          "text": [
            "\r 50%|█████     | 5/10 [00:06<00:06,  1.39s/it]"
          ]
        },
        {
          "output_type": "stream",
          "name": "stdout",
          "text": [
            "None\n",
            "None\n",
            "tensor([ 0.0018, -0.0061,  0.0671,  0.0114,  0.0407,  0.0206,  0.0562,  0.0101,\n",
            "         0.0192,  0.0319,  0.0237,  0.1329,  0.0915, -0.0025,  0.0728,  0.0222],\n",
            "       dtype=torch.float64)\n",
            "None\n",
            "None\n",
            "tensor([0.0224, 0.1192, 0.0069, 0.0165, 0.0285, 0.0431, 0.0165, 0.0315, 0.0318,\n",
            "        0.0269, 0.0295, 0.0717, 0.1589, 0.0345, 0.0559, 0.0504],\n",
            "       dtype=torch.float64)\n",
            "None\n",
            "None\n",
            "tensor([ 0.0420,  0.1465,  0.0134,  0.0277,  0.0367,  0.0280,  0.0171,  0.0593,\n",
            "         0.1466,  0.1760,  0.0425, -0.0057, -0.0025,  0.0297,  0.0588,  0.0283],\n",
            "       dtype=torch.float64)\n",
            "None\n",
            "None\n",
            "tensor([ 0.0272,  0.0298,  0.0003,  0.0229,  0.0467,  0.0303,  0.0418,  0.0169,\n",
            "        -0.0057,  0.0222,  0.1193,  0.0182,  0.0086,  0.0712,  0.0240,  0.0333],\n",
            "       dtype=torch.float64)\n",
            "None\n",
            "None\n",
            "tensor([0.0252, 0.0248, 0.1508, 0.0028, 0.0211, 0.0468, 0.0106, 0.0059, 0.0245,\n",
            "        0.0140, 0.1495, 0.0378, 0.0044, 0.0429, 0.0189, 0.0011],\n",
            "       dtype=torch.float64)\n",
            "None\n",
            "None\n",
            "tensor([ 0.0092,  0.0265,  0.0249,  0.1264,  0.0170,  0.0335,  0.0230,  0.0426,\n",
            "         0.0296,  0.0468,  0.0082,  0.0368,  0.0247,  0.0297,  0.0289, -0.0046],\n",
            "       dtype=torch.float64)\n",
            "None\n",
            "None\n",
            "tensor([0.0415, 0.0154, 0.0381, 0.0260, 0.0461, 0.0244, 0.0488, 0.0460, 0.1584,\n",
            "        0.0303, 0.0101, 0.0343, 0.0487, 0.0171, 0.0538, 0.0625],\n",
            "       dtype=torch.float64)\n",
            "None\n",
            "None\n",
            "tensor([ 0.0092,  0.0392,  0.0346,  0.0341,  0.0203,  0.0016,  0.0468,  0.0291,\n",
            "         0.0034,  0.0361,  0.1569,  0.0587,  0.0103, -0.0059,  0.0320,  0.0388],\n",
            "       dtype=torch.float64)\n",
            "None\n",
            "None\n",
            "tensor([ 0.0259,  0.0277,  0.0605,  0.0153,  0.0308,  0.0283, -0.0046,  0.0229,\n",
            "         0.1414,  0.0183,  0.0422,  0.0265,  0.0497,  0.0157,  0.0610,  0.0673],\n",
            "       dtype=torch.float64)\n",
            "None\n",
            "None\n",
            "tensor([ 0.0261,  0.0175,  0.0272,  0.0419,  0.0253,  0.0448,  0.0103,  0.0419,\n",
            "         0.0111, -0.0027,  0.0238, -0.0024,  0.1577,  0.0420,  0.0555,  0.0392],\n",
            "       dtype=torch.float64)\n"
          ]
        },
        {
          "output_type": "stream",
          "name": "stderr",
          "text": [
            "\r 60%|██████    | 6/10 [00:07<00:05,  1.40s/it]"
          ]
        },
        {
          "output_type": "stream",
          "name": "stdout",
          "text": [
            "None\n",
            "None\n",
            "tensor([ 0.0307,  0.0691,  0.0199,  0.1569,  0.0325,  0.0338,  0.0138,  0.0471,\n",
            "         0.0316,  0.0411,  0.0351,  0.0368, -0.0046,  0.0270,  0.1307,  0.1197],\n",
            "       dtype=torch.float64)\n",
            "None\n",
            "None\n",
            "tensor([-0.0028,  0.0017,  0.0283,  0.0205,  0.0500, -0.0041,  0.0306, -0.0004,\n",
            "         0.0005,  0.0147,  0.0262,  0.0501,  0.0256,  0.0292,  0.1544,  0.0316],\n",
            "       dtype=torch.float64)\n",
            "None\n",
            "None\n",
            "tensor([-0.0036,  0.0027,  0.0117,  0.0090,  0.0541,  0.0202,  0.1475,  0.0371,\n",
            "         0.0215,  0.0105,  0.0310,  0.0223,  0.1339, -0.0055,  0.0004,  0.0111],\n",
            "       dtype=torch.float64)\n",
            "None\n",
            "None\n",
            "tensor([ 5.3600e-04,  3.3899e-02,  6.0266e-03,  7.2745e-03,  3.1389e-02,\n",
            "        -4.2551e-05,  2.3709e-02,  2.0833e-02,  2.7729e-02,  6.3420e-03,\n",
            "         1.1346e-02,  2.8371e-02, -3.6765e-03,  7.6337e-03,  4.3561e-02,\n",
            "         3.1304e-02], dtype=torch.float64)\n",
            "None\n",
            "None\n",
            "tensor([ 0.0238,  0.0456,  0.0724, -0.0023,  0.0163,  0.1543,  0.0196,  0.0151,\n",
            "         0.0263,  0.0168,  0.0587,  0.0520,  0.1444,  0.0935,  0.0184,  0.0377],\n",
            "       dtype=torch.float64)\n"
          ]
        },
        {
          "output_type": "stream",
          "name": "stderr",
          "text": [
            "\r 70%|███████   | 7/10 [00:08<00:03,  1.13s/it]"
          ]
        },
        {
          "output_type": "stream",
          "name": "stdout",
          "text": [
            "None\n",
            "None\n",
            "tensor([ 0.0449,  0.1455,  0.0332,  0.1850,  0.0035,  0.1634,  0.0017,  0.0170,\n",
            "         0.0319,  0.0187,  0.0432,  0.0438,  0.0230, -0.0018,  0.0046, -0.0045],\n",
            "       dtype=torch.float64)\n",
            "None\n",
            "None\n",
            "tensor([ 0.0149,  0.0403,  0.0188, -0.0021,  0.0442,  0.0122,  0.0182,  0.0310,\n",
            "         0.0428,  0.0531,  0.0258,  0.0335,  0.1555,  0.0058,  0.0288, -0.0037],\n",
            "       dtype=torch.float64)\n"
          ]
        },
        {
          "output_type": "stream",
          "name": "stderr",
          "text": [
            "\r 80%|████████  | 8/10 [00:09<00:01,  1.06it/s]"
          ]
        },
        {
          "output_type": "stream",
          "name": "stdout",
          "text": [
            "None\n",
            "None\n",
            "tensor([-0.0052,  0.0112,  0.0352,  0.0212,  0.0045,  0.0368,  0.0383,  0.0067,\n",
            "         0.1627,  0.0401,  0.0242,  0.1626,  0.0226,  0.0115,  0.2012,  0.0527],\n",
            "       dtype=torch.float64)\n",
            "None\n",
            "None\n",
            "tensor([-0.0059,  0.0426,  0.0318,  0.0642,  0.1543,  0.1282,  0.0360,  0.0194,\n",
            "         0.0263,  0.0222,  0.0256,  0.0266,  0.1543,  0.0067,  0.1283,  0.0186],\n",
            "       dtype=torch.float64)\n",
            "None\n",
            "None\n",
            "tensor([-0.0030,  0.0253,  0.1443,  0.0110,  0.0926,  0.0303,  0.0305,  0.0332,\n",
            "         0.0544,  0.0033,  0.1554,  0.1266,  0.0425,  0.0278,  0.0438,  0.0370],\n",
            "       dtype=torch.float64)\n",
            "None\n",
            "None\n",
            "tensor([0.1546, 0.0381, 0.0249, 0.1637, 0.1711, 0.0295, 0.0061, 0.0480, 0.0264,\n",
            "        0.0399, 0.0096, 0.0179, 0.1503, 0.0015, 0.0157, 0.0336],\n",
            "       dtype=torch.float64)\n",
            "None\n",
            "None\n",
            "tensor([ 0.0014,  0.0132,  0.0200,  0.0345,  0.0289, -0.0011,  0.0301,  0.0643,\n",
            "         0.0143,  0.0679,  0.0289,  0.0033,  0.1684,  0.0104,  0.0095,  0.0120],\n",
            "       dtype=torch.float64)\n",
            "None\n",
            "None\n",
            "tensor([ 0.0099,  0.0340,  0.1540,  0.1683,  0.0395,  0.0031,  0.0135, -0.0072,\n",
            "         0.0215,  0.0471,  0.0398,  0.0140,  0.0272,  0.1712,  0.0417,  0.0542],\n",
            "       dtype=torch.float64)\n",
            "None\n",
            "None\n",
            "tensor([ 0.0038,  0.0061,  0.1307,  0.0566,  0.0300,  0.1398, -0.0038,  0.0676,\n",
            "         0.0532,  0.0131,  0.0423,  0.0582,  0.0255,  0.0091,  0.0494,  0.0261],\n",
            "       dtype=torch.float64)\n",
            "None\n",
            "None\n",
            "tensor([ 0.0186,  0.0344,  0.0082,  0.0325, -0.0072,  0.0190,  0.0320,  0.1567,\n",
            "         0.0170,  0.0451, -0.0056,  0.0479, -0.0053,  0.0142,  0.0213,  0.0571],\n",
            "       dtype=torch.float64)\n",
            "None\n",
            "None\n",
            "tensor([0.0064, 0.0305, 0.0450, 0.0258, 0.0231, 0.0291, 0.0310, 0.0144, 0.0356,\n",
            "        0.0387, 0.1588, 0.0174, 0.0295, 0.0296, 0.1657, 0.0129],\n",
            "       dtype=torch.float64)\n",
            "None\n",
            "None\n",
            "tensor([ 0.1413,  0.0121,  0.0360,  0.0290,  0.0019, -0.0047,  0.0464,  0.0578,\n",
            "         0.0188,  0.0103,  0.1419, -0.0008,  0.0576,  0.1317,  0.0327,  0.0221],\n",
            "       dtype=torch.float64)\n",
            "None\n",
            "None\n",
            "tensor([ 0.0242,  0.0120,  0.0295,  0.0106,  0.0438,  0.0425,  0.1365,  0.0217,\n",
            "         0.0181, -0.0051, -0.0028, -0.0012,  0.0266,  0.0293, -0.0002,  0.0345],\n",
            "       dtype=torch.float64)\n",
            "None\n",
            "None\n",
            "tensor([ 0.0452,  0.1430, -0.0023,  0.0035,  0.0156,  0.0648,  0.0377,  0.0202,\n",
            "         0.0163,  0.0169,  0.0101,  0.0162,  0.0160,  0.0451, -0.0056,  0.0637],\n",
            "       dtype=torch.float64)\n",
            "None\n",
            "None\n",
            "tensor([2.9870e-02, 3.0809e-02, 3.2284e-02, 2.5368e-02, 5.6261e-05, 7.4628e-03,\n",
            "        1.3286e-03, 2.1931e-02, 3.1441e-02, 5.6540e-02, 3.1942e-02, 1.1049e-03,\n",
            "        1.5352e-01, 2.4711e-02, 2.9632e-02, 1.5484e-01], dtype=torch.float64)\n",
            "None\n",
            "None\n",
            "tensor([0.0129, 0.1472, 0.0310, 0.0076, 0.0238, 0.0216, 0.0517, 0.0350, 0.1463,\n",
            "        0.0141, 0.0164, 0.0137, 0.0087, 0.0347, 0.0335, 0.0379],\n",
            "       dtype=torch.float64)\n",
            "None\n",
            "None\n",
            "tensor([0.0361, 0.0740, 0.0371, 0.0464, 0.0336, 0.0547, 0.0398, 0.0041, 0.0081,\n",
            "        0.0251, 0.0156, 0.1205, 0.1264, 0.0087, 0.1855, 0.0452],\n",
            "       dtype=torch.float64)\n",
            "None\n",
            "None\n",
            "tensor([ 0.1518,  0.0344,  0.0448,  0.1296,  0.0158,  0.0173,  0.0016,  0.0151,\n",
            "         0.0242,  0.0264,  0.0624,  0.0140, -0.0008,  0.0159,  0.0282,  0.0241],\n",
            "       dtype=torch.float64)\n",
            "None\n",
            "None\n",
            "tensor([ 0.0236,  0.0579,  0.0339,  0.0431,  0.0577,  0.0241,  0.0455,  0.1279,\n",
            "         0.0031,  0.0225,  0.0421,  0.0157,  0.0293,  0.0195, -0.0010,  0.0314],\n",
            "       dtype=torch.float64)\n",
            "None\n",
            "None\n",
            "tensor([0.0125, 0.0696, 0.0309, 0.0674, 0.0450, 0.0830, 0.0019, 0.0120, 0.0266,\n",
            "        0.0390, 0.0368, 0.1271, 0.0394, 0.0347, 0.0326, 0.0337],\n",
            "       dtype=torch.float64)\n",
            "None\n",
            "None\n",
            "tensor([ 0.1332,  0.0319, -0.0018,  0.0063,  0.1344,  0.0320,  0.0136,  0.0130,\n",
            "         0.0331,  0.0191,  0.0315,  0.1567,  0.0458,  0.0078,  0.0354,  0.0019],\n",
            "       dtype=torch.float64)\n",
            "None\n",
            "None\n",
            "tensor([-0.0046,  0.0230,  0.0412,  0.0294,  0.1885,  0.0027,  0.0775,  0.0086,\n",
            "         0.0713,  0.0366,  0.0395,  0.0322,  0.1572,  0.0090,  0.0207,  0.0273],\n",
            "       dtype=torch.float64)\n",
            "None\n",
            "None\n",
            "tensor([3.3851e-02, 3.4704e-02, 2.3649e-02, 3.6103e-02, 4.3377e-02, 3.0223e-02,\n",
            "        6.5670e-02, 1.2165e-01, 1.5541e-01, 1.9503e-02, 5.2930e-02, 4.2979e-05,\n",
            "        3.1863e-02, 3.5393e-02, 7.5251e-02, 8.7003e-03], dtype=torch.float64)\n",
            "None\n",
            "None\n",
            "tensor([ 0.0567,  0.0288,  0.0309,  0.0327,  0.0716,  0.0570,  0.0081,  0.0031,\n",
            "        -0.0054,  0.0219,  0.0193,  0.0060,  0.1504,  0.0723,  0.0049,  0.0335],\n",
            "       dtype=torch.float64)\n",
            "None\n",
            "None\n",
            "tensor([ 0.0154,  0.0197,  0.0383,  0.0396,  0.0260,  0.0051,  0.0528,  0.0354,\n",
            "        -0.0027,  0.0103,  0.0252,  0.0257,  0.0294,  0.0137,  0.0321,  0.0366],\n",
            "       dtype=torch.float64)\n"
          ]
        },
        {
          "output_type": "stream",
          "name": "stderr",
          "text": [
            "\r 90%|█████████ | 9/10 [00:11<00:01,  1.55s/it]"
          ]
        },
        {
          "output_type": "stream",
          "name": "stdout",
          "text": [
            "None\n",
            "None\n",
            "tensor([0.0228, 0.0382, 0.0389, 0.0387, 0.0315, 0.1495, 0.0400, 0.0196, 0.0307,\n",
            "        0.0267, 0.0183, 0.0118, 0.0131, 0.0295, 0.0605, 0.0204],\n",
            "       dtype=torch.float64)\n",
            "None\n",
            "None\n",
            "tensor([0.0391, 0.1225, 0.0099, 0.0346, 0.0024, 0.0674, 0.0333, 0.0439, 0.1498,\n",
            "        0.0723, 0.0339, 0.0073, 0.0304, 0.0220, 0.0433, 0.0347],\n",
            "       dtype=torch.float64)\n"
          ]
        },
        {
          "output_type": "stream",
          "name": "stderr",
          "text": [
            "100%|██████████| 10/10 [00:12<00:00,  1.23s/it]"
          ]
        },
        {
          "output_type": "stream",
          "name": "stdout",
          "text": [
            "None\n",
            "None\n",
            "tensor([ 0.0328,  0.0244,  0.0048,  0.0423,  0.0226,  0.0402,  0.0299, -0.0032,\n",
            "        -0.0005,  0.0433,  0.0240,  0.0202,  0.0290,  0.0129,  0.1408,  0.0386],\n",
            "       dtype=torch.float64)\n",
            "None\n",
            "None\n",
            "tensor([ 0.0054,  0.1618, -0.0038,  0.0229, -0.0043,  0.0418,  0.0019,  0.0103,\n",
            "         0.0534,  0.0801, -0.0044,  0.0746,  0.0365,  0.0343,  0.0119,  0.0488],\n",
            "       dtype=torch.float64)\n"
          ]
        },
        {
          "output_type": "stream",
          "name": "stderr",
          "text": [
            "\n"
          ]
        }
      ],
      "source": [
        "r = Runner(num_episodes=10)\n",
        "r.run()"
      ]
    },
    {
      "cell_type": "code",
      "source": [
        "r.parameters"
      ],
      "metadata": {
        "id": "hdJu48VvORE9",
        "outputId": "3928373e-e436-44e5-cd0d-e70d8e5c062d",
        "colab": {
          "base_uri": "https://localhost:8080/"
        }
      },
      "execution_count": null,
      "outputs": [
        {
          "output_type": "execute_result",
          "data": {
            "text/plain": [
              "tensor([[-0.9693,  0.8310,  0.8167,  0.1281],\n",
              "        [-0.9694, -0.5553, -0.0303, -0.3287],\n",
              "        [-0.5342, -0.3335,  0.9402,  0.0235]], dtype=torch.float64,\n",
              "       requires_grad=True)"
            ]
          },
          "metadata": {},
          "execution_count": 7
        }
      ]
    },
    {
      "cell_type": "code",
      "source": [
        "r.agent.get_q_values(0, r.parameters, num_iterations=100, epsilon=0)"
      ],
      "metadata": {
        "colab": {
          "base_uri": "https://localhost:8080/"
        },
        "id": "PQJINJCPDenp",
        "outputId": "0e70fb9e-f1c7-419a-814c-1bd9c3d0f4fe"
      },
      "execution_count": null,
      "outputs": [
        {
          "output_type": "execute_result",
          "data": {
            "text/plain": [
              "[0.03896103896103896,\n",
              " 0.2077922077922078,\n",
              " 0.2987012987012987,\n",
              " 0.45454545454545453]"
            ]
          },
          "metadata": {},
          "execution_count": 8
        }
      ]
    },
    {
      "cell_type": "code",
      "source": [
        "r.target_parameters"
      ],
      "metadata": {
        "colab": {
          "base_uri": "https://localhost:8080/"
        },
        "id": "xkqnNVtFHQ2_",
        "outputId": "cc8d0670-4c9e-42d9-d359-9e3637b40636"
      },
      "execution_count": null,
      "outputs": [
        {
          "output_type": "execute_result",
          "data": {
            "text/plain": [
              "tensor([[-0.9693,  0.8310,  0.8167,  0.1281],\n",
              "        [-0.9694, -0.5553, -0.0303, -0.3287],\n",
              "        [-0.5342, -0.3335,  0.9402,  0.0235]], dtype=torch.float64)"
            ]
          },
          "metadata": {},
          "execution_count": 9
        }
      ]
    },
    {
      "cell_type": "code",
      "execution_count": null,
      "metadata": {
        "colab": {
          "base_uri": "https://localhost:8080/"
        },
        "id": "OEbzUd7ksnmK",
        "outputId": "18ecda43-c6c1-4980-8f27-c060dc7f413e"
      },
      "outputs": [
        {
          "output_type": "execute_result",
          "data": {
            "text/plain": [
              "(0, 0.0, False, {'prob': 1.0})"
            ]
          },
          "metadata": {},
          "execution_count": 10
        }
      ],
      "source": [
        "env = gym.make('FrozenLake-v1', is_slippery=False)\n",
        "env.reset()\n",
        "env.step(0)"
      ]
    },
    {
      "cell_type": "code",
      "execution_count": null,
      "metadata": {
        "id": "7SpVw0_tsnmL"
      },
      "outputs": [],
      "source": []
    }
  ],
  "metadata": {
    "kernelspec": {
      "display_name": "Python 3",
      "language": "python",
      "name": "python3"
    },
    "language_info": {
      "codemirror_mode": {
        "name": "ipython",
        "version": 3
      },
      "file_extension": ".py",
      "mimetype": "text/x-python",
      "name": "python",
      "nbconvert_exporter": "python",
      "pygments_lexer": "ipython3",
      "version": "3.8.8"
    },
    "orig_nbformat": 4,
    "vscode": {
      "interpreter": {
        "hash": "b71e2ea7fd88c01752403482f8b390a2bb97379ffce9aede2d7f28ae0381b030"
      }
    },
    "colab": {
      "provenance": []
    },
    "accelerator": "GPU",
    "gpuClass": "standard"
  },
  "nbformat": 4,
  "nbformat_minor": 0
}